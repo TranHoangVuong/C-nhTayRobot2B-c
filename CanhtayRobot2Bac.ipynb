{
  "cells": [
    {
      "cell_type": "markdown",
      "metadata": {
        "id": "nupZyHPLwJJI"
      },
      "source": [
        "## tạo dữ liệu"
      ]
    },
    {
      "cell_type": "code",
      "execution_count": null,
      "metadata": {
        "id": "B-KVnSuvwRAy"
      },
      "outputs": [],
      "source": [
        "from math import cos, sin, pi\n",
        "from pandas import DataFrame\n",
        "import numpy as np\n",
        "\n",
        "theta1 = []\n",
        "theta2 = []\n",
        "px = []\n",
        "py = []\n",
        "\n",
        "l1 = 40\n",
        "l2 = 50\n",
        "\n",
        "for i1 in range (0,80*10):\n",
        "    for i2 in range (0,170*10):\n",
        "        t1 = i1/10\n",
        "        t2 = i2/10\n",
        "        theta1.append(t1)\n",
        "        theta2.append(t2)\n",
        "        px.append(round(l1*cos(t1*pi/180) + l2*cos((t1+t2)*pi/180),2))\n",
        "        py.append(round(l1*sin(t1*pi/180) + l2*sin((t1+t2)*pi/180),2))\n",
        "df = DataFrame(np.c_[theta1,theta2,px,py],columns = ['theta1','theta2','px','py'])\n",
        "export_csv = df.to_csv (r'2axis_robot_small.csv', index = None, header=True)"
      ]
    },
    {
      "cell_type": "code",
      "execution_count": null,
      "metadata": {
        "colab": {
          "base_uri": "https://localhost:8080/",
          "height": 39,
          "resources": {
            "http://localhost:8080/nbextensions/google.colab/files.js": {
              "data": "Ly8gQ29weXJpZ2h0IDIwMTcgR29vZ2xlIExMQwovLwovLyBMaWNlbnNlZCB1bmRlciB0aGUgQXBhY2hlIExpY2Vuc2UsIFZlcnNpb24gMi4wICh0aGUgIkxpY2Vuc2UiKTsKLy8geW91IG1heSBub3QgdXNlIHRoaXMgZmlsZSBleGNlcHQgaW4gY29tcGxpYW5jZSB3aXRoIHRoZSBMaWNlbnNlLgovLyBZb3UgbWF5IG9idGFpbiBhIGNvcHkgb2YgdGhlIExpY2Vuc2UgYXQKLy8KLy8gICAgICBodHRwOi8vd3d3LmFwYWNoZS5vcmcvbGljZW5zZXMvTElDRU5TRS0yLjAKLy8KLy8gVW5sZXNzIHJlcXVpcmVkIGJ5IGFwcGxpY2FibGUgbGF3IG9yIGFncmVlZCB0byBpbiB3cml0aW5nLCBzb2Z0d2FyZQovLyBkaXN0cmlidXRlZCB1bmRlciB0aGUgTGljZW5zZSBpcyBkaXN0cmlidXRlZCBvbiBhbiAiQVMgSVMiIEJBU0lTLAovLyBXSVRIT1VUIFdBUlJBTlRJRVMgT1IgQ09ORElUSU9OUyBPRiBBTlkgS0lORCwgZWl0aGVyIGV4cHJlc3Mgb3IgaW1wbGllZC4KLy8gU2VlIHRoZSBMaWNlbnNlIGZvciB0aGUgc3BlY2lmaWMgbGFuZ3VhZ2UgZ292ZXJuaW5nIHBlcm1pc3Npb25zIGFuZAovLyBsaW1pdGF0aW9ucyB1bmRlciB0aGUgTGljZW5zZS4KCi8qKgogKiBAZmlsZW92ZXJ2aWV3IEhlbHBlcnMgZm9yIGdvb2dsZS5jb2xhYiBQeXRob24gbW9kdWxlLgogKi8KKGZ1bmN0aW9uKHNjb3BlKSB7CmZ1bmN0aW9uIHNwYW4odGV4dCwgc3R5bGVBdHRyaWJ1dGVzID0ge30pIHsKICBjb25zdCBlbGVtZW50ID0gZG9jdW1lbnQuY3JlYXRlRWxlbWVudCgnc3BhbicpOwogIGVsZW1lbnQudGV4dENvbnRlbnQgPSB0ZXh0OwogIGZvciAoY29uc3Qga2V5IG9mIE9iamVjdC5rZXlzKHN0eWxlQXR0cmlidXRlcykpIHsKICAgIGVsZW1lbnQuc3R5bGVba2V5XSA9IHN0eWxlQXR0cmlidXRlc1trZXldOwogIH0KICByZXR1cm4gZWxlbWVudDsKfQoKLy8gTWF4IG51bWJlciBvZiBieXRlcyB3aGljaCB3aWxsIGJlIHVwbG9hZGVkIGF0IGEgdGltZS4KY29uc3QgTUFYX1BBWUxPQURfU0laRSA9IDEwMCAqIDEwMjQ7CgpmdW5jdGlvbiBfdXBsb2FkRmlsZXMoaW5wdXRJZCwgb3V0cHV0SWQpIHsKICBjb25zdCBzdGVwcyA9IHVwbG9hZEZpbGVzU3RlcChpbnB1dElkLCBvdXRwdXRJZCk7CiAgY29uc3Qgb3V0cHV0RWxlbWVudCA9IGRvY3VtZW50LmdldEVsZW1lbnRCeUlkKG91dHB1dElkKTsKICAvLyBDYWNoZSBzdGVwcyBvbiB0aGUgb3V0cHV0RWxlbWVudCB0byBtYWtlIGl0IGF2YWlsYWJsZSBmb3IgdGhlIG5leHQgY2FsbAogIC8vIHRvIHVwbG9hZEZpbGVzQ29udGludWUgZnJvbSBQeXRob24uCiAgb3V0cHV0RWxlbWVudC5zdGVwcyA9IHN0ZXBzOwoKICByZXR1cm4gX3VwbG9hZEZpbGVzQ29udGludWUob3V0cHV0SWQpOwp9CgovLyBUaGlzIGlzIHJvdWdobHkgYW4gYXN5bmMgZ2VuZXJhdG9yIChub3Qgc3VwcG9ydGVkIGluIHRoZSBicm93c2VyIHlldCksCi8vIHdoZXJlIHRoZXJlIGFyZSBtdWx0aXBsZSBhc3luY2hyb25vdXMgc3RlcHMgYW5kIHRoZSBQeXRob24gc2lkZSBpcyBnb2luZwovLyB0byBwb2xsIGZvciBjb21wbGV0aW9uIG9mIGVhY2ggc3RlcC4KLy8gVGhpcyB1c2VzIGEgUHJvbWlzZSB0byBibG9jayB0aGUgcHl0aG9uIHNpZGUgb24gY29tcGxldGlvbiBvZiBlYWNoIHN0ZXAsCi8vIHRoZW4gcGFzc2VzIHRoZSByZXN1bHQgb2YgdGhlIHByZXZpb3VzIHN0ZXAgYXMgdGhlIGlucHV0IHRvIHRoZSBuZXh0IHN0ZXAuCmZ1bmN0aW9uIF91cGxvYWRGaWxlc0NvbnRpbnVlKG91dHB1dElkKSB7CiAgY29uc3Qgb3V0cHV0RWxlbWVudCA9IGRvY3VtZW50LmdldEVsZW1lbnRCeUlkKG91dHB1dElkKTsKICBjb25zdCBzdGVwcyA9IG91dHB1dEVsZW1lbnQuc3RlcHM7CgogIGNvbnN0IG5leHQgPSBzdGVwcy5uZXh0KG91dHB1dEVsZW1lbnQubGFzdFByb21pc2VWYWx1ZSk7CiAgcmV0dXJuIFByb21pc2UucmVzb2x2ZShuZXh0LnZhbHVlLnByb21pc2UpLnRoZW4oKHZhbHVlKSA9PiB7CiAgICAvLyBDYWNoZSB0aGUgbGFzdCBwcm9taXNlIHZhbHVlIHRvIG1ha2UgaXQgYXZhaWxhYmxlIHRvIHRoZSBuZXh0CiAgICAvLyBzdGVwIG9mIHRoZSBnZW5lcmF0b3IuCiAgICBvdXRwdXRFbGVtZW50Lmxhc3RQcm9taXNlVmFsdWUgPSB2YWx1ZTsKICAgIHJldHVybiBuZXh0LnZhbHVlLnJlc3BvbnNlOwogIH0pOwp9CgovKioKICogR2VuZXJhdG9yIGZ1bmN0aW9uIHdoaWNoIGlzIGNhbGxlZCBiZXR3ZWVuIGVhY2ggYXN5bmMgc3RlcCBvZiB0aGUgdXBsb2FkCiAqIHByb2Nlc3MuCiAqIEBwYXJhbSB7c3RyaW5nfSBpbnB1dElkIEVsZW1lbnQgSUQgb2YgdGhlIGlucHV0IGZpbGUgcGlja2VyIGVsZW1lbnQuCiAqIEBwYXJhbSB7c3RyaW5nfSBvdXRwdXRJZCBFbGVtZW50IElEIG9mIHRoZSBvdXRwdXQgZGlzcGxheS4KICogQHJldHVybiB7IUl0ZXJhYmxlPCFPYmplY3Q+fSBJdGVyYWJsZSBvZiBuZXh0IHN0ZXBzLgogKi8KZnVuY3Rpb24qIHVwbG9hZEZpbGVzU3RlcChpbnB1dElkLCBvdXRwdXRJZCkgewogIGNvbnN0IGlucHV0RWxlbWVudCA9IGRvY3VtZW50LmdldEVsZW1lbnRCeUlkKGlucHV0SWQpOwogIGlucHV0RWxlbWVudC5kaXNhYmxlZCA9IGZhbHNlOwoKICBjb25zdCBvdXRwdXRFbGVtZW50ID0gZG9jdW1lbnQuZ2V0RWxlbWVudEJ5SWQob3V0cHV0SWQpOwogIG91dHB1dEVsZW1lbnQuaW5uZXJIVE1MID0gJyc7CgogIGNvbnN0IHBpY2tlZFByb21pc2UgPSBuZXcgUHJvbWlzZSgocmVzb2x2ZSkgPT4gewogICAgaW5wdXRFbGVtZW50LmFkZEV2ZW50TGlzdGVuZXIoJ2NoYW5nZScsIChlKSA9PiB7CiAgICAgIHJlc29sdmUoZS50YXJnZXQuZmlsZXMpOwogICAgfSk7CiAgfSk7CgogIGNvbnN0IGNhbmNlbCA9IGRvY3VtZW50LmNyZWF0ZUVsZW1lbnQoJ2J1dHRvbicpOwogIGlucHV0RWxlbWVudC5wYXJlbnRFbGVtZW50LmFwcGVuZENoaWxkKGNhbmNlbCk7CiAgY2FuY2VsLnRleHRDb250ZW50ID0gJ0NhbmNlbCB1cGxvYWQnOwogIGNvbnN0IGNhbmNlbFByb21pc2UgPSBuZXcgUHJvbWlzZSgocmVzb2x2ZSkgPT4gewogICAgY2FuY2VsLm9uY2xpY2sgPSAoKSA9PiB7CiAgICAgIHJlc29sdmUobnVsbCk7CiAgICB9OwogIH0pOwoKICAvLyBXYWl0IGZvciB0aGUgdXNlciB0byBwaWNrIHRoZSBmaWxlcy4KICBjb25zdCBmaWxlcyA9IHlpZWxkIHsKICAgIHByb21pc2U6IFByb21pc2UucmFjZShbcGlja2VkUHJvbWlzZSwgY2FuY2VsUHJvbWlzZV0pLAogICAgcmVzcG9uc2U6IHsKICAgICAgYWN0aW9uOiAnc3RhcnRpbmcnLAogICAgfQogIH07CgogIGNhbmNlbC5yZW1vdmUoKTsKCiAgLy8gRGlzYWJsZSB0aGUgaW5wdXQgZWxlbWVudCBzaW5jZSBmdXJ0aGVyIHBpY2tzIGFyZSBub3QgYWxsb3dlZC4KICBpbnB1dEVsZW1lbnQuZGlzYWJsZWQgPSB0cnVlOwoKICBpZiAoIWZpbGVzKSB7CiAgICByZXR1cm4gewogICAgICByZXNwb25zZTogewogICAgICAgIGFjdGlvbjogJ2NvbXBsZXRlJywKICAgICAgfQogICAgfTsKICB9CgogIGZvciAoY29uc3QgZmlsZSBvZiBmaWxlcykgewogICAgY29uc3QgbGkgPSBkb2N1bWVudC5jcmVhdGVFbGVtZW50KCdsaScpOwogICAgbGkuYXBwZW5kKHNwYW4oZmlsZS5uYW1lLCB7Zm9udFdlaWdodDogJ2JvbGQnfSkpOwogICAgbGkuYXBwZW5kKHNwYW4oCiAgICAgICAgYCgke2ZpbGUudHlwZSB8fCAnbi9hJ30pIC0gJHtmaWxlLnNpemV9IGJ5dGVzLCBgICsKICAgICAgICBgbGFzdCBtb2RpZmllZDogJHsKICAgICAgICAgICAgZmlsZS5sYXN0TW9kaWZpZWREYXRlID8gZmlsZS5sYXN0TW9kaWZpZWREYXRlLnRvTG9jYWxlRGF0ZVN0cmluZygpIDoKICAgICAgICAgICAgICAgICAgICAgICAgICAgICAgICAgICAgJ24vYSd9IC0gYCkpOwogICAgY29uc3QgcGVyY2VudCA9IHNwYW4oJzAlIGRvbmUnKTsKICAgIGxpLmFwcGVuZENoaWxkKHBlcmNlbnQpOwoKICAgIG91dHB1dEVsZW1lbnQuYXBwZW5kQ2hpbGQobGkpOwoKICAgIGNvbnN0IGZpbGVEYXRhUHJvbWlzZSA9IG5ldyBQcm9taXNlKChyZXNvbHZlKSA9PiB7CiAgICAgIGNvbnN0IHJlYWRlciA9IG5ldyBGaWxlUmVhZGVyKCk7CiAgICAgIHJlYWRlci5vbmxvYWQgPSAoZSkgPT4gewogICAgICAgIHJlc29sdmUoZS50YXJnZXQucmVzdWx0KTsKICAgICAgfTsKICAgICAgcmVhZGVyLnJlYWRBc0FycmF5QnVmZmVyKGZpbGUpOwogICAgfSk7CiAgICAvLyBXYWl0IGZvciB0aGUgZGF0YSB0byBiZSByZWFkeS4KICAgIGxldCBmaWxlRGF0YSA9IHlpZWxkIHsKICAgICAgcHJvbWlzZTogZmlsZURhdGFQcm9taXNlLAogICAgICByZXNwb25zZTogewogICAgICAgIGFjdGlvbjogJ2NvbnRpbnVlJywKICAgICAgfQogICAgfTsKCiAgICAvLyBVc2UgYSBjaHVua2VkIHNlbmRpbmcgdG8gYXZvaWQgbWVzc2FnZSBzaXplIGxpbWl0cy4gU2VlIGIvNjIxMTU2NjAuCiAgICBsZXQgcG9zaXRpb24gPSAwOwogICAgZG8gewogICAgICBjb25zdCBsZW5ndGggPSBNYXRoLm1pbihmaWxlRGF0YS5ieXRlTGVuZ3RoIC0gcG9zaXRpb24sIE1BWF9QQVlMT0FEX1NJWkUpOwogICAgICBjb25zdCBjaHVuayA9IG5ldyBVaW50OEFycmF5KGZpbGVEYXRhLCBwb3NpdGlvbiwgbGVuZ3RoKTsKICAgICAgcG9zaXRpb24gKz0gbGVuZ3RoOwoKICAgICAgY29uc3QgYmFzZTY0ID0gYnRvYShTdHJpbmcuZnJvbUNoYXJDb2RlLmFwcGx5KG51bGwsIGNodW5rKSk7CiAgICAgIHlpZWxkIHsKICAgICAgICByZXNwb25zZTogewogICAgICAgICAgYWN0aW9uOiAnYXBwZW5kJywKICAgICAgICAgIGZpbGU6IGZpbGUubmFtZSwKICAgICAgICAgIGRhdGE6IGJhc2U2NCwKICAgICAgICB9LAogICAgICB9OwoKICAgICAgbGV0IHBlcmNlbnREb25lID0gZmlsZURhdGEuYnl0ZUxlbmd0aCA9PT0gMCA/CiAgICAgICAgICAxMDAgOgogICAgICAgICAgTWF0aC5yb3VuZCgocG9zaXRpb24gLyBmaWxlRGF0YS5ieXRlTGVuZ3RoKSAqIDEwMCk7CiAgICAgIHBlcmNlbnQudGV4dENvbnRlbnQgPSBgJHtwZXJjZW50RG9uZX0lIGRvbmVgOwoKICAgIH0gd2hpbGUgKHBvc2l0aW9uIDwgZmlsZURhdGEuYnl0ZUxlbmd0aCk7CiAgfQoKICAvLyBBbGwgZG9uZS4KICB5aWVsZCB7CiAgICByZXNwb25zZTogewogICAgICBhY3Rpb246ICdjb21wbGV0ZScsCiAgICB9CiAgfTsKfQoKc2NvcGUuZ29vZ2xlID0gc2NvcGUuZ29vZ2xlIHx8IHt9OwpzY29wZS5nb29nbGUuY29sYWIgPSBzY29wZS5nb29nbGUuY29sYWIgfHwge307CnNjb3BlLmdvb2dsZS5jb2xhYi5fZmlsZXMgPSB7CiAgX3VwbG9hZEZpbGVzLAogIF91cGxvYWRGaWxlc0NvbnRpbnVlLAp9Owp9KShzZWxmKTsK",
              "headers": [
                [
                  "content-type",
                  "application/javascript"
                ]
              ],
              "ok": true,
              "status": 200,
              "status_text": ""
            }
          }
        },
        "id": "-9wmUbqvyNCr",
        "outputId": "113298a6-bada-4fc9-8cba-72e0d29773d3"
      },
      "outputs": [
        {
          "data": {
            "text/html": [
              "\n",
              "     <input type=\"file\" id=\"files-a74681ba-4d1e-422f-8e5e-8e7e21c05f1c\" name=\"files[]\" multiple disabled\n",
              "        style=\"border:none\" />\n",
              "     <output id=\"result-a74681ba-4d1e-422f-8e5e-8e7e21c05f1c\">\n",
              "      Upload widget is only available when the cell has been executed in the\n",
              "      current browser session. Please rerun this cell to enable.\n",
              "      </output>\n",
              "      <script src=\"/nbextensions/google.colab/files.js\"></script> "
            ],
            "text/plain": [
              "<IPython.core.display.HTML object>"
            ]
          },
          "metadata": {},
          "output_type": "display_data"
        }
      ],
      "source": [
        "from google.colab import files\n",
        "upload = files.upload()"
      ]
    },
    {
      "cell_type": "code",
      "execution_count": null,
      "metadata": {
        "id": "5L1lkcW1xTIH"
      },
      "outputs": [],
      "source": [
        "import sklearn\n",
        "import matplotlib.pyplot as plt\n",
        "from keras.utils import np_utils\n",
        "import keras\n",
        "from sklearn.model_selection import train_test_split\n",
        "import pandas as pd\n",
        "\n",
        "url = '2axis_robot_small.csv'\n",
        "data = pd.read_csv(url)\n",
        "\n",
        "dataX = data.drop(data.columns[:2],axis=1)\n",
        "X = dataX.values.tolist()\n",
        "\n",
        "dataY = data.drop(data.columns[2:],axis=1)\n",
        "Y = dataY.values.tolist()\n",
        "X_train, X_test, Y_train, Y_test = train_test_split(dataX,dataY,test_size = 0.2,random_state=7)\n",
        "\n",
        "Y_train = np.array(Y_train)\n",
        "Y_test = np.array(Y_test)\n",
        "X_train = np.array(X_train)\n",
        "X_test = np.array(X_test)\n"
      ]
    },
    {
      "cell_type": "code",
      "execution_count": null,
      "metadata": {
        "colab": {
          "base_uri": "https://localhost:8080/"
        },
        "id": "HTBcmTG50y0b",
        "outputId": "2935dad2-9bb6-49a7-ac75-a6380cbde4d1"
      },
      "outputs": [
        {
          "output_type": "stream",
          "name": "stdout",
          "text": [
            "Model: \"sequential\"\n",
            "_________________________________________________________________\n",
            " Layer (type)                Output Shape              Param #   \n",
            "=================================================================\n",
            " dense (Dense)               (None, 256)               768       \n",
            "                                                                 \n",
            " dense_1 (Dense)             (None, 256)               65792     \n",
            "                                                                 \n",
            " dense_2 (Dense)             (None, 128)               32896     \n",
            "                                                                 \n",
            " dense_3 (Dense)             (None, 64)                8256      \n",
            "                                                                 \n",
            " dense_4 (Dense)             (None, 2)                 130       \n",
            "                                                                 \n",
            "=================================================================\n",
            "Total params: 107,842\n",
            "Trainable params: 107,842\n",
            "Non-trainable params: 0\n",
            "_________________________________________________________________\n",
            "Epoch 1/50\n",
            "6800/6800 [==============================] - 33s 4ms/step - loss: 164.2547 - mean_absolute_error: 7.3538 - val_loss: 10.5814 - val_mean_absolute_error: 2.2127\n",
            "Epoch 2/50\n",
            "6800/6800 [==============================] - 28s 4ms/step - loss: 22.0245 - mean_absolute_error: 3.2409 - val_loss: 6.6482 - val_mean_absolute_error: 1.5539\n",
            "Epoch 3/50\n",
            "6800/6800 [==============================] - 28s 4ms/step - loss: 17.6814 - mean_absolute_error: 2.8606 - val_loss: 8.7608 - val_mean_absolute_error: 2.1271\n",
            "Epoch 4/50\n",
            "6800/6800 [==============================] - 28s 4ms/step - loss: 15.1292 - mean_absolute_error: 2.6354 - val_loss: 14.3817 - val_mean_absolute_error: 2.6895\n",
            "Epoch 5/50\n",
            "6800/6800 [==============================] - 31s 5ms/step - loss: 12.8218 - mean_absolute_error: 2.4049 - val_loss: 5.4153 - val_mean_absolute_error: 1.6526\n",
            "Epoch 6/50\n",
            "6800/6800 [==============================] - 30s 4ms/step - loss: 10.9755 - mean_absolute_error: 2.2098 - val_loss: 12.8308 - val_mean_absolute_error: 2.7361\n",
            "Epoch 7/50\n",
            "6800/6800 [==============================] - 27s 4ms/step - loss: 9.9443 - mean_absolute_error: 2.0939 - val_loss: 6.6978 - val_mean_absolute_error: 1.9511\n",
            "Epoch 8/50\n",
            "6800/6800 [==============================] - 28s 4ms/step - loss: 9.2452 - mean_absolute_error: 2.0076 - val_loss: 11.3184 - val_mean_absolute_error: 2.3832\n",
            "Epoch 9/50\n",
            "6800/6800 [==============================] - 30s 4ms/step - loss: 8.7356 - mean_absolute_error: 1.9401 - val_loss: 5.0276 - val_mean_absolute_error: 1.7364\n",
            "Epoch 10/50\n",
            "6800/6800 [==============================] - 30s 4ms/step - loss: 8.3089 - mean_absolute_error: 1.8730 - val_loss: 16.9179 - val_mean_absolute_error: 2.7793\n",
            "Epoch 11/50\n",
            "6800/6800 [==============================] - 32s 5ms/step - loss: 7.9610 - mean_absolute_error: 1.8181 - val_loss: 7.5239 - val_mean_absolute_error: 2.0731\n",
            "Epoch 12/50\n",
            "6800/6800 [==============================] - 32s 5ms/step - loss: 7.6520 - mean_absolute_error: 1.7614 - val_loss: 1.9401 - val_mean_absolute_error: 0.7047\n",
            "Epoch 13/50\n",
            "6800/6800 [==============================] - 30s 4ms/step - loss: 7.4323 - mean_absolute_error: 1.7286 - val_loss: 13.2420 - val_mean_absolute_error: 2.5827\n",
            "Epoch 14/50\n",
            "6800/6800 [==============================] - 27s 4ms/step - loss: 7.2108 - mean_absolute_error: 1.6883 - val_loss: 4.5853 - val_mean_absolute_error: 1.0912\n",
            "Epoch 15/50\n",
            "6800/6800 [==============================] - 28s 4ms/step - loss: 6.9872 - mean_absolute_error: 1.6579 - val_loss: 10.9446 - val_mean_absolute_error: 2.1031\n",
            "Epoch 16/50\n",
            "6800/6800 [==============================] - 30s 4ms/step - loss: 6.8424 - mean_absolute_error: 1.6314 - val_loss: 17.2580 - val_mean_absolute_error: 3.0398\n",
            "Epoch 17/50\n",
            "6800/6800 [==============================] - 28s 4ms/step - loss: 6.6698 - mean_absolute_error: 1.6024 - val_loss: 3.5217 - val_mean_absolute_error: 1.3827\n",
            "Epoch 18/50\n",
            "6800/6800 [==============================] - 27s 4ms/step - loss: 6.5155 - mean_absolute_error: 1.5825 - val_loss: 2.5410 - val_mean_absolute_error: 1.0724\n",
            "Epoch 19/50\n",
            "6800/6800 [==============================] - 30s 4ms/step - loss: 6.3948 - mean_absolute_error: 1.5586 - val_loss: 2.7697 - val_mean_absolute_error: 1.0071\n",
            "Epoch 20/50\n",
            "6800/6800 [==============================] - 31s 5ms/step - loss: 6.2605 - mean_absolute_error: 1.5438 - val_loss: 2.4018 - val_mean_absolute_error: 1.0412\n",
            "Epoch 21/50\n",
            "6800/6800 [==============================] - 30s 4ms/step - loss: 6.1203 - mean_absolute_error: 1.5276 - val_loss: 2.5328 - val_mean_absolute_error: 1.0767\n",
            "Epoch 22/50\n",
            "6800/6800 [==============================] - 30s 4ms/step - loss: 6.0233 - mean_absolute_error: 1.5055 - val_loss: 9.1270 - val_mean_absolute_error: 1.9640\n",
            "Epoch 23/50\n",
            "6800/6800 [==============================] - 28s 4ms/step - loss: 5.9199 - mean_absolute_error: 1.4912 - val_loss: 2.7855 - val_mean_absolute_error: 1.0988\n",
            "Epoch 24/50\n",
            "6800/6800 [==============================] - 30s 4ms/step - loss: 5.8096 - mean_absolute_error: 1.4815 - val_loss: 7.2158 - val_mean_absolute_error: 1.8049\n",
            "Epoch 25/50\n",
            "6800/6800 [==============================] - 27s 4ms/step - loss: 5.7010 - mean_absolute_error: 1.4626 - val_loss: 1.9758 - val_mean_absolute_error: 0.7949\n",
            "Epoch 26/50\n",
            "6800/6800 [==============================] - 30s 4ms/step - loss: 5.5989 - mean_absolute_error: 1.4528 - val_loss: 1.8926 - val_mean_absolute_error: 0.8265\n",
            "Epoch 27/50\n",
            "6800/6800 [==============================] - 30s 4ms/step - loss: 5.4980 - mean_absolute_error: 1.4367 - val_loss: 1.7258 - val_mean_absolute_error: 0.6440\n",
            "Epoch 28/50\n",
            "6800/6800 [==============================] - 27s 4ms/step - loss: 5.4430 - mean_absolute_error: 1.4291 - val_loss: 2.4174 - val_mean_absolute_error: 1.1636\n",
            "Epoch 29/50\n",
            "6800/6800 [==============================] - 27s 4ms/step - loss: 5.3259 - mean_absolute_error: 1.4122 - val_loss: 1.4583 - val_mean_absolute_error: 0.6260\n",
            "Epoch 30/50\n",
            "6800/6800 [==============================] - 30s 4ms/step - loss: 5.2426 - mean_absolute_error: 1.3993 - val_loss: 3.2648 - val_mean_absolute_error: 1.3549\n",
            "Epoch 31/50\n",
            "6800/6800 [==============================] - 28s 4ms/step - loss: 5.1662 - mean_absolute_error: 1.3895 - val_loss: 8.9750 - val_mean_absolute_error: 1.9371\n",
            "Epoch 32/50\n",
            "6800/6800 [==============================] - 30s 4ms/step - loss: 5.0770 - mean_absolute_error: 1.3787 - val_loss: 3.2589 - val_mean_absolute_error: 1.0543\n",
            "Epoch 33/50\n",
            "6800/6800 [==============================] - 30s 4ms/step - loss: 5.0069 - mean_absolute_error: 1.3661 - val_loss: 1.7661 - val_mean_absolute_error: 0.8900\n",
            "Epoch 34/50\n",
            "6800/6800 [==============================] - 28s 4ms/step - loss: 4.9467 - mean_absolute_error: 1.3539 - val_loss: 1.7020 - val_mean_absolute_error: 0.8103\n",
            "Epoch 35/50\n",
            "6800/6800 [==============================] - 30s 4ms/step - loss: 4.8632 - mean_absolute_error: 1.3411 - val_loss: 8.9885 - val_mean_absolute_error: 2.1125\n",
            "Epoch 36/50\n",
            "6800/6800 [==============================] - 30s 4ms/step - loss: 4.8183 - mean_absolute_error: 1.3373 - val_loss: 2.9953 - val_mean_absolute_error: 1.0894\n",
            "Epoch 37/50\n",
            "6800/6800 [==============================] - 30s 4ms/step - loss: 4.7671 - mean_absolute_error: 1.3248 - val_loss: 5.4783 - val_mean_absolute_error: 1.3655\n",
            "Epoch 38/50\n",
            "6800/6800 [==============================] - 28s 4ms/step - loss: 4.6995 - mean_absolute_error: 1.3141 - val_loss: 1.8879 - val_mean_absolute_error: 0.6875\n",
            "Epoch 39/50\n",
            "6800/6800 [==============================] - 28s 4ms/step - loss: 4.6540 - mean_absolute_error: 1.3059 - val_loss: 1.3983 - val_mean_absolute_error: 0.6562\n",
            "Epoch 40/50\n",
            "6800/6800 [==============================] - 30s 4ms/step - loss: 4.6024 - mean_absolute_error: 1.3015 - val_loss: 1.4302 - val_mean_absolute_error: 0.6820\n",
            "Epoch 41/50\n",
            "6800/6800 [==============================] - 27s 4ms/step - loss: 4.5589 - mean_absolute_error: 1.2923 - val_loss: 7.1336 - val_mean_absolute_error: 1.7934\n",
            "Epoch 42/50\n",
            "6800/6800 [==============================] - 28s 4ms/step - loss: 4.5091 - mean_absolute_error: 1.2868 - val_loss: 6.2028 - val_mean_absolute_error: 1.6837\n",
            "Epoch 43/50\n",
            "6800/6800 [==============================] - 28s 4ms/step - loss: 4.4583 - mean_absolute_error: 1.2805 - val_loss: 2.8996 - val_mean_absolute_error: 1.2281\n",
            "Epoch 44/50\n",
            "6800/6800 [==============================] - 30s 4ms/step - loss: 4.4241 - mean_absolute_error: 1.2711 - val_loss: 3.2623 - val_mean_absolute_error: 0.9614\n",
            "Epoch 45/50\n",
            "6800/6800 [==============================] - 27s 4ms/step - loss: 4.3510 - mean_absolute_error: 1.2611 - val_loss: 4.4313 - val_mean_absolute_error: 1.4253\n",
            "Epoch 46/50\n",
            "6800/6800 [==============================] - 27s 4ms/step - loss: 4.3190 - mean_absolute_error: 1.2482 - val_loss: 2.7120 - val_mean_absolute_error: 1.0549\n",
            "Epoch 47/50\n",
            "6800/6800 [==============================] - 30s 4ms/step - loss: 4.2472 - mean_absolute_error: 1.2462 - val_loss: 1.7800 - val_mean_absolute_error: 0.6844\n",
            "Epoch 48/50\n",
            "6800/6800 [==============================] - 30s 4ms/step - loss: 4.2201 - mean_absolute_error: 1.2298 - val_loss: 1.9240 - val_mean_absolute_error: 0.7752\n",
            "Epoch 49/50\n",
            "6800/6800 [==============================] - 30s 4ms/step - loss: 4.1802 - mean_absolute_error: 1.2287 - val_loss: 2.2458 - val_mean_absolute_error: 1.0369\n",
            "Epoch 50/50\n",
            "6800/6800 [==============================] - 28s 4ms/step - loss: 4.1319 - mean_absolute_error: 1.2209 - val_loss: 4.9095 - val_mean_absolute_error: 1.6342\n",
            "Sai số kiểm tra là :  4.906289100646973\n",
            "độ chính xác kiểm tra 1.6376628875732422\n"
          ]
        }
      ],
      "source": [
        "#tạo mô hình\n",
        "\n",
        "from keras.models import Sequential\n",
        "from keras.layers import Dense, Activation,Dropout\n",
        "from tensorflow.keras.optimizers import RMSprop\n",
        "\n",
        "model = Sequential()\n",
        "model.add(Dense(256,kernel_initializer='normal', activation='relu',input_shape=(2,)))\n",
        "model.add(Dense(256,activation='relu'))\n",
        "model.add(Dense(128,activation='relu'))\n",
        "model.add(Dense(64,activation='relu'))\n",
        "model.add(Dense(2))\n",
        "model.summary()\n",
        "model.compile(loss='mse',optimizer=RMSprop(),metrics=['mean_absolute_error'])\n",
        "history = model.fit(X_train, Y_train,  batch_size=128, epochs=50, verbose=1, validation_split=0.2)\n",
        "score = model.evaluate(X_test, Y_test, verbose=0)\n",
        "print('Sai số kiểm tra là : ', score[0])\n",
        "print('độ chính xác kiểm tra',score[1])"
      ]
    },
    {
      "cell_type": "code",
      "execution_count": null,
      "metadata": {
        "id": "xRS9Bu_cuEuD"
      },
      "outputs": [],
      "source": [
        "#lưu lại mô hình \n",
        "model.save('ArmRobot.h5')\n",
        "\n"
      ]
    },
    {
      "cell_type": "code",
      "execution_count": null,
      "metadata": {
        "colab": {
          "base_uri": "https://localhost:8080/",
          "height": 350
        },
        "id": "HQg6n4UYueU-",
        "outputId": "1e952b11-6a39-4dde-d1cd-1f279985160e"
      },
      "outputs": [
        {
          "output_type": "display_data",
          "data": {
            "text/plain": [
              "<Figure size 576x360 with 1 Axes>"
            ],
            "image/png": "[encoded data removed]"
          },
          "metadata": {
            "needs_background": "light"
          }
        }
      ],
      "source": [
        "plt.figure(figsize=(8,5))\n",
        "plt.grid(True)\n",
        "plt.gca().set_ylim(0,10)\n",
        "\n",
        "plt.plot(history.history['mean_absolute_error'])\n",
        "plt.plot(history.history['val_mean_absolute_error'])\n",
        "\n",
        "plt.title('model absolute error')\n",
        "plt.ylabel('absolute_error')\n",
        "plt.xlabel('epoch')\n",
        "plt.legend(['train','validation'],loc='upper right')\n",
        "\n",
        "plt.show()"
      ]
    },
    {
      "cell_type": "code",
      "source": [
        "from keras import models\n",
        "import numpy as np\n",
        "\n",
        "model200 = models.load_model('ArmRobot.h5')\n",
        "X_test_new = [[30,30],[29,28]]\n",
        "X_test_new = np.array(X_test_new)\n",
        "y_pred = model200.predict(X_test_new)\n",
        "print(y_pred)"
      ],
      "metadata": {
        "colab": {
          "base_uri": "https://localhost:8080/"
        },
        "id": "WTiU54udB4ts",
        "outputId": "d683a3e8-b549-4fe3-8694-ce17cbe8ba8c"
      },
      "execution_count": null,
      "outputs": [
        {
          "output_type": "stream",
          "name": "stdout",
          "text": [
            "[[ -2.5431309 104.18795  ]\n",
            " [ -0.2933172 102.72072  ]]\n"
          ]
        }
      ]
    }
  ],
  "metadata": {
    "accelerator": "GPU",
    "colab": {
      "collapsed_sections": [],
      "name": "CanhtayRobot2Bac.ipynb",
      "provenance": []
    },
    "kernelspec": {
      "display_name": "Python 3",
      "name": "python3"
    },
    "language_info": {
      "name": "python"
    }
  },
  "nbformat": 4,
  "nbformat_minor": 0
}